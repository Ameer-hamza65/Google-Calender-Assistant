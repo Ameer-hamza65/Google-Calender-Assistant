{
 "cells": [
  {
   "cell_type": "code",
   "execution_count": null,
   "id": "4c2d1b72",
   "metadata": {},
   "outputs": [],
   "source": [
    "from langchain_google_community.calendar.delete_event import CalendarDeleteEvent\n",
    "from langchain_google_community.calendar.create_event import CalendarCreateEvent\n",
    "from langchain_google_community.calendar.search_events import CalendarSearchEvents\n",
    "from langchain_google_community.calendar.get_calendars_info import GetCalendarsInfo\n",
    "\n",
    "\n",
    "\n",
    "tool1=CalendarDeleteEvent()\n",
    "tool2=CalendarCreateEvent()\n",
    "tool3=CalendarSearchEvents()\n",
    "tool4=GetCalendarsInfo()\n",
    "\n",
    "tools=[tool1,tool2,tool3,tool4]"
   ]
  },
  {
   "cell_type": "code",
   "execution_count": null,
   "id": "60e22e83",
   "metadata": {},
   "outputs": [],
   "source": [
    "import getpass\n",
    "import os\n",
    " \n",
    "\n",
    "os.environ[\"AZURE_OPENAI_ENDPOINT\"] = \"https://openai0perks.openai.azure.com/openai/deployments/gpt-4o/chat/completions?api-version=2025-01-01-preview\"\n",
    "\n",
    "from langchain_openai import AzureChatOpenAI\n",
    "\n",
    "llm = AzureChatOpenAI(\n",
    "    azure_deployment=\"gpt-4o\",  # or your deployment\n",
    "    api_version=\"2025-01-01-preview\",  # or your api version\n",
    "    temperature=0,\n",
    "    max_tokens=None,\n",
    "    timeout=None,\n",
    "    max_retries=2,\n",
    "    api_key='Your openai key'\n",
    "    # other params...\n",
    ")"
   ]
  },
  {
   "cell_type": "code",
   "execution_count": 23,
   "id": "251424d4",
   "metadata": {},
   "outputs": [],
   "source": [
    "from langgraph.prebuilt import create_react_agent\n",
    "\n",
    "graph=create_react_agent(llm,tools)"
   ]
  },
  {
   "cell_type": "code",
   "execution_count": null,
   "id": "30b65447",
   "metadata": {},
   "outputs": [
    {
     "name": "stdout",
     "output_type": "stream",
     "text": [
      "Tool called:  create_event\n",
      "final response:  The event \"Study\" has been successfully created on August 12, 2025, from 7:00 PM to 8:00 PM at Lahore. Let me know if you need any further assistance!\n"
     ]
    }
   ],
   "source": [
    "def parse_response(stream):\n",
    "    tool_called_name='None'\n",
    "    final_response=None\n",
    "    \n",
    "    for s in stream:\n",
    "        tool_data=s.get('tools')\n",
    "        if tool_data:\n",
    "            tool_messages=tool_data.get('messages')\n",
    "            if tool_messages and isinstance(tool_messages, list):\n",
    "                for msg in tool_messages:\n",
    "                    tool_called_name=getattr(msg,'name','None')\n",
    "        \n",
    "        agent_data=s.get('agent')\n",
    "        if agent_data:\n",
    "            messages=agent_data.get('messages')\n",
    "            if messages and isinstance(messages, list):\n",
    "                for msg in messages:\n",
    "                    if msg.content:\n",
    "                        final_response=msg.content\n",
    "    return tool_called_name, final_response\n",
    "inputs={'messages': [ ('user', 'can you please create an event on 12 august 2025 at 7pm to 8pm with the name of study location is lahore and there is no description')]}\n",
    "stream=graph.stream(inputs, stream_mode='updates')\n",
    "tool_called_name, final_response=parse_response(stream)\n",
    "print('Tool called: ',tool_called_name)\n",
    "print('final response: ',final_response)"
   ]
  },
  {
   "cell_type": "code",
   "execution_count": null,
   "id": "55037aa4",
   "metadata": {},
   "outputs": [],
   "source": []
  }
 ],
 "metadata": {
  "kernelspec": {
   "display_name": "agent",
   "language": "python",
   "name": "python3"
  },
  "language_info": {
   "codemirror_mode": {
    "name": "ipython",
    "version": 3
   },
   "file_extension": ".py",
   "mimetype": "text/x-python",
   "name": "python",
   "nbconvert_exporter": "python",
   "pygments_lexer": "ipython3",
   "version": "3.11.11"
  }
 },
 "nbformat": 4,
 "nbformat_minor": 5
}
